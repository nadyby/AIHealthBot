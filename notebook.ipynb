{
 "cells": [
  {
   "cell_type": "code",
   "execution_count": null,
   "metadata": {},
   "outputs": [
    {
     "name": "stdout",
     "output_type": "stream",
     "text": [
      "Your browser has been opened to visit:\n",
      "\n",
      "    https://accounts.google.com/o/oauth2/auth?response_type=code&client_id=32555940559.apps.googleusercontent.com&redirect_uri=http%3A%2F%2Flocalhost%3A8085%2F&scope=openid+https%3A%2F%2Fwww.googleapis.com%2Fauth%2Fuserinfo.email+https%3A%2F%2Fwww.googleapis.com%2Fauth%2Fcloud-platform+https%3A%2F%2Fwww.googleapis.com%2Fauth%2Fappengine.admin+https%3A%2F%2Fwww.googleapis.com%2Fauth%2Fsqlservice.login+https%3A%2F%2Fwww.googleapis.com%2Fauth%2Fcompute+https%3A%2F%2Fwww.googleapis.com%2Fauth%2Faccounts.reauth&state=0T2I8H7HV0bFjWr9FjsNQTSvn0dvBP&access_type=offline&code_challenge=7p8RbFQv6dnQqNkK6YLVHy0WeVsZheJT7sD7WoHksK8&code_challenge_method=S256\n",
      "\n",
      "\n",
      "You are now logged in as [nbenyoussef11@gmail.com].\n",
      "Your current project is [aihealthbot].  You can change this setting by running:\n",
      "  $ gcloud config set project PROJECT_ID\n",
      "\n",
      "\n",
      "Updates are available for some Google Cloud CLI components.  To install them,\n",
      "please run:\n",
      "  $ gcloud components update\n",
      "\n"
     ]
    }
   ],
   "source": [
    "!gcloud auth login"
   ]
  },
  {
   "cell_type": "code",
   "execution_count": 5,
   "metadata": {},
   "outputs": [
    {
     "name": "stdout",
     "output_type": "stream",
     "text": [
      "\n",
      "\u001b[1m[\u001b[0m\u001b[34;49mnotice\u001b[0m\u001b[1;39;49m]\u001b[0m\u001b[39;49m A new release of pip is available: \u001b[0m\u001b[31;49m24.3.1\u001b[0m\u001b[39;49m -> \u001b[0m\u001b[32;49m25.0.1\u001b[0m\n",
      "\u001b[1m[\u001b[0m\u001b[34;49mnotice\u001b[0m\u001b[1;39;49m]\u001b[0m\u001b[39;49m To update, run: \u001b[0m\u001b[32;49mpip install --upgrade pip\u001b[0m\n",
      "Note: you may need to restart the kernel to use updated packages.\n"
     ]
    }
   ],
   "source": [
    "%pip install -q google-cloud-storage unstructured langchain python-magic sqlalchemy langchain_google_cloud_sql_pg"
   ]
  },
  {
   "cell_type": "code",
   "execution_count": 2,
   "metadata": {},
   "outputs": [
    {
     "name": "stdout",
     "output_type": "stream",
     "text": [
      "Files in 'dauphine-bucket/data':\n",
      "data/\n",
      "data/medquad.csv\n"
     ]
    }
   ],
   "source": [
    "from google.cloud import storage\n",
    "# Initialize a client\n",
    "client = storage.Client()\n",
    "# Access the bucket\n",
    "bucket_name = 'aihealthbot-bucket'\n",
    "bucket = client.get_bucket(bucket_name)\n",
    "# List all files in the 'data' directory\n",
    "blobs = bucket.list_blobs(prefix=\"data/\")\n",
    "print(\"Files in 'dauphine-bucket/data':\")\n",
    "for blob in blobs:\n",
    "    print(blob.name)"
   ]
  },
  {
   "cell_type": "code",
   "execution_count": 8,
   "metadata": {},
   "outputs": [
    {
     "name": "stdout",
     "output_type": "stream",
     "text": [
      "Information for 'data/medquad.csv':\n",
      "Size: 22835609 bytes\n",
      "Content Type: text/csv\n",
      "Updated On: 2025-02-11 19:16:27\n",
      "Blob name: data/medquad.csv\n"
     ]
    }
   ],
   "source": [
    "file_path = 'data/medquad.csv'\n",
    "# Get the blob object\n",
    "blob = bucket.get_blob(file_path)\n",
    "if blob:\n",
    "    print(f\"Information for '{file_path}':\")\n",
    "    print(f\"Size: {blob.size} bytes\")\n",
    "    print(f\"Content Type: {blob.content_type}\")\n",
    "    formatted_updated_on = (blob.updated).strftime(\"%Y-%m-%d %H:%M:%S\") \n",
    "    print(f\"Updated On: {formatted_updated_on}\")\n",
    "    print(f\"Blob name: {blob.name}\")\n",
    "else:\n",
    "    print(f\"File '{file_path}' not found in the bucket.\")"
   ]
  },
  {
   "cell_type": "code",
   "execution_count": 3,
   "metadata": {},
   "outputs": [],
   "source": [
    "from langchain_core.documents import Document\n",
    "import os\n",
    "from google.cloud.storage.bucket import Bucket\n",
    "from langchain_unstructured import UnstructuredLoader\n",
    "import pandas as pd"
   ]
  },
  {
   "cell_type": "code",
   "execution_count": null,
   "metadata": {},
   "outputs": [],
   "source": [
    "DOWNLOADED_LOCAL_DIRECTORY = \"./downloaded_files\"\n",
    "os.makedirs(DOWNLOADED_LOCAL_DIRECTORY, exist_ok=True)\n",
    "\n",
    "# Télécharger le fichier\n",
    "def download_file_from_bucket(bucket, file_path: str) -> str:\n",
    "    blob = bucket.blob(file_path)\n",
    "    local_file_name = os.path.basename(file_path)\n",
    "    local_filepath = os.path.join(DOWNLOADED_LOCAL_DIRECTORY, local_file_name)\n",
    "    blob.download_to_filename(local_filepath)\n",
    "    print(f\"Downloaded '{file_path}' to '{local_file_name}'\")\n",
    "    return local_filepath"
   ]
  },
  {
   "cell_type": "code",
   "execution_count": 8,
   "metadata": {},
   "outputs": [
    {
     "name": "stdout",
     "output_type": "stream",
     "text": [
      "Downloaded 'data/medquad.csv' to 'medquad.csv'\n"
     ]
    }
   ],
   "source": [
    "file_path = \"data/medquad.csv\"\n",
    "local_filepath = download_file_from_bucket(bucket, file_path)"
   ]
  },
  {
   "cell_type": "code",
   "execution_count": 48,
   "metadata": {},
   "outputs": [],
   "source": [
    "CSV_FILE_PATH = os.path.join(DOWNLOADED_LOCAL_DIRECTORY, \"medquad.csv\")\n",
    "df = pd.read_csv(CSV_FILE_PATH)"
   ]
  },
  {
   "cell_type": "code",
   "execution_count": 49,
   "metadata": {},
   "outputs": [
    {
     "name": "stdout",
     "output_type": "stream",
     "text": [
      "Nombre de lignes dans medquad.csv : 16412\n"
     ]
    }
   ],
   "source": [
    "print(f\"Nombre de lignes dans medquad.csv : {len(df)}\")"
   ]
  },
  {
   "cell_type": "code",
   "execution_count": 50,
   "metadata": {},
   "outputs": [],
   "source": [
    "df['answer'] = df['answer'].fillna(\"Pas de réponse disponible\")\n",
    "df['source'] = df['source'].fillna(\"Source inconnue\")\n",
    "df['focus_area'] = df['focus_area'].fillna(\"Non catégorisé\")\n",
    "\n",
    "assert not df.isnull().values.any(), \"Il reste des NaN dans le DataFrame !\""
   ]
  },
  {
   "cell_type": "code",
   "execution_count": null,
   "metadata": {},
   "outputs": [
    {
     "name": "stdout",
     "output_type": "stream",
     "text": [
      "question      0\n",
      "answer        0\n",
      "source        0\n",
      "focus_area    0\n",
      "dtype: int64\n"
     ]
    }
   ],
   "source": [
    "print(df.isnull().sum())"
   ]
  },
  {
   "cell_type": "code",
   "execution_count": 55,
   "metadata": {},
   "outputs": [
    {
     "name": "stdout",
     "output_type": "stream",
     "text": [
      "16412 documents convertis avec succès !\n"
     ]
    }
   ],
   "source": [
    "# Convertir chaque ligne du CSV en `Document` LangChain\n",
    "documents = [\n",
    "    Document(\n",
    "        page_content=row[\"question\"],  \n",
    "        metadata={\n",
    "            \"answer\": row[\"answer\"],\n",
    "            \"source\": row[\"source\"],\n",
    "            \"focus_area\": row[\"focus_area\"]\n",
    "        }\n",
    "    )\n",
    "    for _, row in df.iterrows()\n",
    "]\n",
    "print(f\"{len(documents)} documents convertis avec succès !\")"
   ]
  },
  {
   "cell_type": "code",
   "execution_count": 52,
   "metadata": {},
   "outputs": [
    {
     "name": "stdout",
     "output_type": "stream",
     "text": [
      "\n",
      "🔍 Premier document :\n",
      "page_content='What is (are) Glaucoma ?' metadata={'answer': \"Glaucoma is a group of diseases that can damage the eye's optic nerve and result in vision loss and blindness. While glaucoma can strike anyone, the risk is much greater for people over 60. How Glaucoma Develops  There are several different types of glaucoma. Most of these involve the drainage system within the eye. At the front of the eye there is a small space called the anterior chamber. A clear fluid flows through this chamber and bathes and nourishes the nearby tissues. (Watch the video to learn more about glaucoma. To enlarge the video, click the brackets in the lower right-hand corner. To reduce the video, press the Escape (Esc) button on your keyboard.) In glaucoma, for still unknown reasons, the fluid drains too slowly out of the eye. As the fluid builds up, the pressure inside the eye rises. Unless this pressure is controlled, it may cause damage to the optic nerve and other parts of the eye and result in loss of vision. Open-angle Glaucoma The most common type of glaucoma is called open-angle glaucoma. In the normal eye, the clear fluid leaves the anterior chamber at the open angle where the cornea and iris meet. When fluid reaches the angle, it flows through a spongy meshwork, like a drain, and leaves the eye. Sometimes, when the fluid reaches the angle, it passes too slowly through the meshwork drain, causing the pressure inside the eye to build. If the pressure damages the optic nerve, open-angle glaucoma -- and vision loss -- may result. There is no cure for glaucoma. Vision lost from the disease cannot be restored. However, there are treatments that may save remaining vision. That is why early diagnosis is important.  See this graphic for a quick overview of glaucoma,  including how many people it affects, whos at risk, what to do if you have it, and how to learn more.  See a glossary of glaucoma terms.\", 'source': 'NIHSeniorHealth', 'focus_area': 'Glaucoma'}\n",
      "\n",
      "📜 Question : What is (are) Glaucoma ?\n",
      "💡 Réponse : Glaucoma is a group of diseases that can damage the eye's optic nerve and result in vision loss and blindness. While glaucoma can strike anyone, the risk is much greater for people over 60. How Glaucoma Develops  There are several different types of glaucoma. Most of these involve the drainage system within the eye. At the front of the eye there is a small space called the anterior chamber. A clear fluid flows through this chamber and bathes and nourishes the nearby tissues. (Watch the video to learn more about glaucoma. To enlarge the video, click the brackets in the lower right-hand corner. To reduce the video, press the Escape (Esc) button on your keyboard.) In glaucoma, for still unknown reasons, the fluid drains too slowly out of the eye. As the fluid builds up, the pressure inside the eye rises. Unless this pressure is controlled, it may cause damage to the optic nerve and other parts of the eye and result in loss of vision. Open-angle Glaucoma The most common type of glaucoma is called open-angle glaucoma. In the normal eye, the clear fluid leaves the anterior chamber at the open angle where the cornea and iris meet. When fluid reaches the angle, it flows through a spongy meshwork, like a drain, and leaves the eye. Sometimes, when the fluid reaches the angle, it passes too slowly through the meshwork drain, causing the pressure inside the eye to build. If the pressure damages the optic nerve, open-angle glaucoma -- and vision loss -- may result. There is no cure for glaucoma. Vision lost from the disease cannot be restored. However, there are treatments that may save remaining vision. That is why early diagnosis is important.  See this graphic for a quick overview of glaucoma,  including how many people it affects, whos at risk, what to do if you have it, and how to learn more.  See a glossary of glaucoma terms.\n",
      "📌 Source : NIHSeniorHealth\n",
      "📂 Focus Area : Glaucoma\n"
     ]
    }
   ],
   "source": [
    "# Afficher le premier document\n",
    "print(\"\\n🔍 Premier document :\")\n",
    "print(documents[0])  # Affiche tout l'objet Document\n",
    "\n",
    "# Afficher uniquement son contenu et ses métadonnées\n",
    "print(\"\\n📜 Question :\", documents[0].page_content)\n",
    "print(\"💡 Réponse :\", documents[0].metadata[\"answer\"])\n",
    "print(\"📌 Source :\", documents[0].metadata[\"source\"])\n",
    "print(\"📂 Focus Area :\", documents[0].metadata[\"focus_area\"])"
   ]
  },
  {
   "cell_type": "markdown",
   "metadata": {},
   "source": [
    "------"
   ]
  },
  {
   "cell_type": "code",
   "execution_count": 13,
   "metadata": {},
   "outputs": [
    {
     "name": "stdout",
     "output_type": "stream",
     "text": [
      "\n",
      "\u001b[1m[\u001b[0m\u001b[34;49mnotice\u001b[0m\u001b[1;39;49m]\u001b[0m\u001b[39;49m A new release of pip is available: \u001b[0m\u001b[31;49m24.3.1\u001b[0m\u001b[39;49m -> \u001b[0m\u001b[32;49m25.0.1\u001b[0m\n",
      "\u001b[1m[\u001b[0m\u001b[34;49mnotice\u001b[0m\u001b[1;39;49m]\u001b[0m\u001b[39;49m To update, run: \u001b[0m\u001b[32;49mpip install --upgrade pip\u001b[0m\n",
      "Note: you may need to restart the kernel to use updated packages.\n"
     ]
    }
   ],
   "source": [
    "%pip install --upgrade --quiet  langchain-google-cloud-sql-pg langchain-google-vertexai"
   ]
  },
  {
   "cell_type": "code",
   "execution_count": 85,
   "metadata": {},
   "outputs": [
    {
     "data": {
      "text/plain": [
       "True"
      ]
     },
     "execution_count": 85,
     "metadata": {},
     "output_type": "execute_result"
    }
   ],
   "source": [
    "from dotenv import load_dotenv\n",
    "load_dotenv()"
   ]
  },
  {
   "cell_type": "code",
   "execution_count": 86,
   "metadata": {},
   "outputs": [],
   "source": [
    "import os\n",
    "from config import PROJECT_ID, REGION, INSTANCE, DATABASE, DB_USER\n",
    "DB_PASSWORD = os.environ[\"DB_PASSWORD\"]"
   ]
  },
  {
   "cell_type": "code",
   "execution_count": 88,
   "metadata": {},
   "outputs": [],
   "source": [
    "TABLE_NAME = \"nb_table\""
   ]
  },
  {
   "cell_type": "code",
   "execution_count": 89,
   "metadata": {},
   "outputs": [],
   "source": [
    "from langchain_google_cloud_sql_pg import PostgresEngine\n",
    "engine = PostgresEngine.from_instance(\n",
    "    project_id=PROJECT_ID,\n",
    "    instance=INSTANCE,\n",
    "    region=REGION,\n",
    "    database=DATABASE,\n",
    "    user=DB_USER,\n",
    "    password=DB_PASSWORD,\n",
    ")"
   ]
  },
  {
   "cell_type": "code",
   "execution_count": 90,
   "metadata": {},
   "outputs": [],
   "source": [
    "from sqlalchemy.exc import ProgrammingError\n",
    "try:\n",
    "    await engine.ainit_vectorstore_table(\n",
    "        table_name=TABLE_NAME,\n",
    "        vector_size=768,\n",
    "    )\n",
    "except ProgrammingError:\n",
    "    print(\"Table already created\")"
   ]
  },
  {
   "cell_type": "code",
   "execution_count": 91,
   "metadata": {},
   "outputs": [
    {
     "name": "stdout",
     "output_type": "stream",
     "text": [
      "Table already created\n"
     ]
    }
   ],
   "source": [
    "#2eme execution pour verifier la creation de table\n",
    "from sqlalchemy.exc import ProgrammingError\n",
    "try:\n",
    "    await engine.ainit_vectorstore_table(\n",
    "        table_name=TABLE_NAME,\n",
    "        vector_size=768,\n",
    "    )\n",
    "except ProgrammingError:\n",
    "    print(\"Table already created\")"
   ]
  },
  {
   "cell_type": "code",
   "execution_count": 92,
   "metadata": {},
   "outputs": [
    {
     "name": "stdout",
     "output_type": "stream",
     "text": [
      "✅ Connexion à Vertex AI réussie !\n"
     ]
    }
   ],
   "source": [
    "from langchain_google_vertexai import VertexAIEmbeddings\n",
    "embedding = VertexAIEmbeddings(\n",
    "    model_name=\"textembedding-gecko@latest\",\n",
    "    project=PROJECT_ID\n",
    ")\n",
    "print(\"✅ Connexion à Vertex AI réussie !\")"
   ]
  },
  {
   "cell_type": "code",
   "execution_count": null,
   "metadata": {},
   "outputs": [
    {
     "name": "stdout",
     "output_type": "stream",
     "text": [
      "✅ Les embeddings des questions ont été générés et stockés dans la table !\n"
     ]
    }
   ],
   "source": [
    "from langchain_google_cloud_sql_pg import PostgresVectorStore\n",
    "vector_store = PostgresVectorStore.create_sync( \n",
    "    engine=engine,\n",
    "    table_name=TABLE_NAME,\n",
    "    embedding_service=embedding,\n",
    ")\n",
    "# Convertir les documents en embeddings et les stocker dans Cloud SQL\n",
    "'''vector_store.add_documents(\n",
    "    [\n",
    "        Document(\n",
    "            page_content=row[\"question\"], \n",
    "            metadata={\n",
    "                \"answer\": row[\"answer\"],\n",
    "                \"source\": row[\"source\"],\n",
    "                \"focus_area\": row[\"focus_area\"]\n",
    "            }\n",
    "        )\n",
    "        for _, row in df.iterrows()\n",
    "    ]\n",
    ")\n",
    "print(\"Les embeddings des questions ont été générés et stockés dans la table !\")'''"
   ]
  },
  {
   "cell_type": "code",
   "execution_count": 98,
   "metadata": {},
   "outputs": [],
   "source": [
    "query = \"What is Alzheimer ? \" "
   ]
  },
  {
   "cell_type": "code",
   "execution_count": null,
   "metadata": {},
   "outputs": [],
   "source": [
    "retriever = vector_store.as_retriever(\n",
    "    search_type=\"similarity_score_threshold\", \n",
    "    search_kwargs={\"score_threshold\": 0.5} \n",
    ")"
   ]
  },
  {
   "cell_type": "code",
   "execution_count": 100,
   "metadata": {},
   "outputs": [],
   "source": [
    "docs = retriever.invoke(query)"
   ]
  },
  {
   "cell_type": "code",
   "execution_count": 104,
   "metadata": {},
   "outputs": [
    {
     "name": "stdout",
     "output_type": "stream",
     "text": [
      "\n",
      " 4 documents trouvés pour la requête : What is Alzheimer ? \n",
      "--------------------------------------------------\n",
      " Résultat 1 \n",
      " Question trouvée:  What is (are) Alzheimer disease ?\n",
      " Réponse: Alzheimer disease is a degenerative disease of the brain that causes dementia, which is a gradual loss of memory, judgment, and ability to function. This disorder usually appears in people older than age 65, but less common forms of the disease appear earlier in adulthood.  Memory loss is the most common sign of Alzheimer disease. Forgetfulness may be subtle at first, but the loss of memory worsens over time until it interferes with most aspects of daily living. Even in familiar settings, a person with Alzheimer disease may get lost or become confused. Routine tasks such as preparing meals, doing laundry, and performing other household chores can be challenging. Additionally, it may become difficult to recognize people and name objects. Affected people increasingly require help with dressing, eating, and personal care.  As the disorder progresses, some people with Alzheimer disease experience personality and behavioral changes and have trouble interacting in a socially appropriate manner. Other common symptoms include agitation, restlessness, withdrawal, and loss of language skills. People with this disease usually require total care during the advanced stages of the disease. Affected individuals usually survive 8 to 10 years after the appearance of symptoms, but the course of the disease can range from 1 to 25 years. Death usually results from pneumonia, malnutrition, or general body wasting (inanition).  Alzheimer disease can be classified as early-onset or late-onset. The signs and symptoms of the early-onset form appear before age 65, while the late-onset form appears after age 65. The early-onset form is much less common than the late-onset form, accounting for less than 5 percent of all cases of Alzheimer disease.\n",
      " Source: GHR\n",
      " Focus Area: Alzheimer disease\n",
      "--------------------------------------------------\n",
      " Résultat 2 \n",
      " Question trouvée:  What is (are) Alzheimer disease ?\n",
      " Réponse: Alzheimer disease (AD) is a degenerative disease of the brain that causes gradual loss of memory, judgment, and the ability to function socially. Alzheimer disease currently affects about 5 million people. About 75 percent of Alzheimer disease cases are classified as sporadic, which means they occur in people with no history of the disorder in their family. Although the cause of these cases is unknown, genetic changes are likely to play a role. Virtually all sporadic cases of Alzheimer disease begin after age 65, and the risk of developing this condition increases as a person gets older. AD can be subdivided into two groups based on the age of onset: (1) Early-onset (1%-6% of the cases) which start in people younger than 60- 65 years of age (2) Late-onset, which starts in people older than 65 years old. In about 25% of cases, AD is familial (2 or more people in a family have AD). For more information, please visit GARD's familial Alzheimer disease Web page.\n",
      " Source: GARD\n",
      " Focus Area: Alzheimer disease\n",
      "--------------------------------------------------\n",
      " Résultat 3 \n",
      " Question trouvée:  What is (are) Alzheimer's Disease ?\n",
      " Réponse: Alzheimers disease is a brain disease that slowly destroys memory and thinking skills and, eventually, the ability to carry out the simplest tasks. It begins slowly and gets worse over time. Currently, it has no cure. Alzheimers disease is the most common cause of dementia in older people.  Get more details about Alzheimer's disease.\n",
      " Source: NIHSeniorHealth\n",
      " Focus Area: Alzheimer's Disease\n",
      "--------------------------------------------------\n",
      " Résultat 4 \n",
      " Question trouvée:  What is (are) Alzheimer's Disease ?\n",
      " Réponse: Alzheimers disease is a brain disease that slowly destroys memory and thinking skills and, eventually, the ability to carry out the simplest tasks. It begins slowly and gets worse over time. Currently, it has no cure. A Common Cause of Dementia Alzheimers disease is the most common cause of dementia among older people. Dementia is a loss of thinking, remembering, and reasoning skills that interferes with a persons daily life and activities. Dementia ranges in severity from the mild stage, when it is just beginning to affect a persons functioning, to the severe stage, when the person must depend completely on others for basic care. Estimates vary, but experts suggest that more than 5 million Americans may have Alzheimer's disease. Alzheimers is currently ranked as the sixth leading cause of death in the United States, but recent estimates indicate that the disorder may rank third, just behind heart disease and cancer, as a cause of death for older people Risk Increases With Age In most people with Alzheimers, symptoms first appear in their mid-60s, and the risk of developing the disease increases with age. While younger people -- in their 30s, 40s, and 50s -- may get Alzheimer's disease, it is much less common. It is important to note that Alzheimer's disease is not a normal part of aging. The course of Alzheimers diseasewhich symptoms appear and how quickly changes occurvaries from person to person. The time from diagnosis to death varies, too. It can be as little as 3 or 4 years if the person is over 80 years old when diagnosed or as long as 10 years or more if the person is younger. Memory Problems: One of the First Signs Memory problems are typically one of the first signs of Alzheimers disease, though initial symptoms may vary from person to person. A decline in other aspects of thinking, such as finding the right words, vision/spatial issues, and impaired reasoning or judgment, may also signal the very early stages of Alzheimers disease. People with Alzheimers have trouble doing everyday things like driving a car, cooking a meal, or paying bills. They may ask the same questions over and over, get lost easily, lose things or put them in odd places, and find even simple things confusing. Some people become worried, angry, or violent. Other Reasons for Memory Issues Not all people with memory problems have Alzheimers disease. Mild forgetfulness can be a normal part of aging. Some people may notice that it takes longer to learn new things, remember certain words, or find their glasses. Thats different from a serious memory problem, which makes it hard to do everyday things. Sometimes memory problems are related to health issues that are treatable. For example, medication side effects, vitamin B12 deficiency, head injuries, or liver or kidney disorders can lead to memory loss or possibly dementia. Emotional problems, such as stress, anxiety, or depression, can also make a person more forgetful and may be mistaken for dementia. Read more about causes of memory loss and how to keep your memory sharp. Mild Cognitive Impairment Some older people with memory or other thinking problems have a condition called mild cognitive impairment, or MCI. MCI can be an early sign of Alzheimers, but not everyone with MCI will develop Alzheimers disease. People with MCI have more memory problems than other people their age, but they can still take care of themselves and do their normal activities. Signs of MCI may include - losing things often  - forgetting to go to events and appointments  - having more trouble coming up with words than other people the same age. losing things often forgetting to go to events and appointments having more trouble coming up with words than other people the same age. If you or someone in your family thinks your forgetfulness is getting in the way of your normal routine, its time to see your doctor. Seeing the doctor when you first start having memory problems can help you find out whats causing your forgetfulness. Learn more about mild cognitive impairment (MCI).  What Happens to the Brain in Alzheimers? Alzheimer's disease is named after Dr. Alois Alzheimer, a German doctor. In 1906, Dr. Alzheimer noticed changes in the brain tissue of a woman who had died of an unusual mental illness. After she died, he examined her brain and found many abnormal clumps (now called amyloid plaques) and tangled bundles of fibers (now called neurofibrillary, or tau, tangles). Plaques and tangles in the brain are two of the main features of Alzheimer's disease. Another is the loss of connections between nerve cells (neurons) in the brain. Neurons send messages between different parts of the brain, and from the brain to muscles and organs in the body. It seems likely that damage to the brain starts 10 years or more before memory or other thinking problems become obvious. During the earliest stage of Alzheimers, people are free of symptoms, but harmful changes are taking place in the brain. The damage at first appears to take place in cells of the hippocampus, the part of the brain essential in forming memories. Abnormal protein deposits form plaques and tangles in the brain. Once-healthy nerve cells stop functioning, lose connections with each other, and die. As more nerve cells die, other parts of the brain begin to shrink. By the final stage of Alzheimers, damage is widespread, and brain tissue has shrunk significantly. Get more details about Alzheimers disease.\n",
      " Source: NIHSeniorHealth\n",
      " Focus Area: Alzheimer's Disease\n"
     ]
    }
   ],
   "source": [
    "# Afficher les résultats\n",
    "if docs:\n",
    "    print(f\"\\n {len(docs)} documents trouvés pour la requête : {query}\")\n",
    "    for i, doc in enumerate(docs):\n",
    "        print(\"-\" * 50)\n",
    "        print(f\" Résultat {i+1} \")\n",
    "        print(\" Question trouvée: \", doc.page_content)\n",
    "        print(\" Réponse:\", doc.metadata[\"answer\"])\n",
    "        print(\" Source:\", doc.metadata[\"source\"])\n",
    "        print(\" Focus Area:\", doc.metadata[\"focus_area\"])\n",
    "else:\n",
    "    print(\"Aucun document pertinent trouvé pour cette requête.\")"
   ]
  }
 ],
 "metadata": {
  "kernelspec": {
   "display_name": "gcp",
   "language": "python",
   "name": "python3"
  },
  "language_info": {
   "codemirror_mode": {
    "name": "ipython",
    "version": 3
   },
   "file_extension": ".py",
   "mimetype": "text/x-python",
   "name": "python",
   "nbconvert_exporter": "python",
   "pygments_lexer": "ipython3",
   "version": "3.12.3"
  }
 },
 "nbformat": 4,
 "nbformat_minor": 2
}
